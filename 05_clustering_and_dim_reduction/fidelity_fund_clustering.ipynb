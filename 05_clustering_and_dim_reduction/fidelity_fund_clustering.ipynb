{
 "cells": [
  {
   "cell_type": "markdown",
   "metadata": {},
   "source": [
    "## K-Means Cluster Analysis of Fidelity Fund Returns \n",
    "### University of Virginia\n",
    "### DS 7200: Distributed Computing\n",
    "### Last Updated: August 20, 2023"
   ]
  },
  {
   "cell_type": "markdown",
   "metadata": {},
   "source": [
    "## Instructions\n",
    "\n",
    "In this assignment, you will conduct a k-means cluster analysis on a set of Fidelity mutual funds.  \n",
    "This helps to group similar funds based on their performance (as opposed to their description, which is typical).  \n",
    "The outline below will walk you through the required steps.  \n",
    "\n",
    "This assignment is worth a total of **10 POINTS.**"
   ]
  },
  {
   "cell_type": "markdown",
   "metadata": {},
   "source": [
    "## Data Details \n",
    "\n",
    "The file *fido_returns_funds_on_rows.csv* is the processed data for k-means. Additional details about this file: \n",
    "- Each row represents a mutual fund  \n",
    "- Each column represents a trading day (these are used as features)  \n",
    "- Each value represents the daily percentage change in price between the current trading day and previous trading day"
   ]
  },
  {
   "cell_type": "markdown",
   "metadata": {},
   "source": [
    "### Load Modules and Read Data into Spark DataFrame"
   ]
  },
  {
   "cell_type": "code",
   "execution_count": null,
   "metadata": {},
   "outputs": [],
   "source": []
  },
  {
   "cell_type": "markdown",
   "metadata": {},
   "source": [
    "**(VALUE: 2 POINTS) Assemble the Features into a column. \n",
    "Show the first five rows of data ONLY for the features column.\n",
    "(this should make things easier to read)**"
   ]
  },
  {
   "cell_type": "code",
   "execution_count": null,
   "metadata": {},
   "outputs": [],
   "source": []
  },
  {
   "cell_type": "markdown",
   "metadata": {},
   "source": [
    "**(VALUE: 1 POINT) Set up the k-means model and train the model**  \n",
    "Use parameters: \n",
    "- 3 clusters\n",
    "- maximum of 10 iterations \n",
    "- seed=314"
   ]
  },
  {
   "cell_type": "code",
   "execution_count": null,
   "metadata": {},
   "outputs": [],
   "source": []
  },
  {
   "cell_type": "markdown",
   "metadata": {},
   "source": [
    "**(VALUE: 2 POINTS) Compute and Print the Silhouette Score**  "
   ]
  },
  {
   "cell_type": "code",
   "execution_count": null,
   "metadata": {},
   "outputs": [],
   "source": []
  },
  {
   "cell_type": "markdown",
   "metadata": {},
   "source": [
    "**(VALUE: 2 POINTS) Define a function `kmeans_range()` that does the following:**\n",
    "- takes an integer representing the lower bound for k\n",
    "- takes an integer representing the upper bound for k\n",
    "- take a Spark DataFrame containing training data\n",
    "- fit K-means with k ranging from lower bound to upper bound, inclusive  \n",
    "- the other parameters should be the same as earlier \n",
    "- for each k, compute the silhouette score\n",
    "- return a pandas dataframe with columns containing k, silhouette score (each row holds the score for given k)"
   ]
  },
  {
   "cell_type": "code",
   "execution_count": null,
   "metadata": {},
   "outputs": [],
   "source": []
  },
  {
   "cell_type": "markdown",
   "metadata": {},
   "source": [
    "**(VALUE: 1 POINT) Call `kmeans_range` to compute K-means with clusters ranging from 2 to 10 inclusive, printing the resulting dataframe.**"
   ]
  },
  {
   "cell_type": "code",
   "execution_count": null,
   "metadata": {},
   "outputs": [],
   "source": []
  },
  {
   "cell_type": "markdown",
   "metadata": {},
   "source": [
    "**(VALUE: 1 POINT) Produce a plot with cluster numbers k on the x-axis, sihouette scores on the y-axis**"
   ]
  },
  {
   "cell_type": "code",
   "execution_count": null,
   "metadata": {},
   "outputs": [],
   "source": []
  },
  {
   "cell_type": "code",
   "execution_count": null,
   "metadata": {},
   "outputs": [],
   "source": []
  },
  {
   "cell_type": "markdown",
   "metadata": {},
   "source": [
    "**(VALUE: 1 POINT) Based on how the silhouette score is calculated, what is its time complexity? (e.g., O(log n))**  \n",
    "You can find the definition of the silhouette score in the lecture notes, for example. "
   ]
  },
  {
   "cell_type": "markdown",
   "metadata": {},
   "source": [
    "How does the time scale with data n - does it scale linearly, log-linearly, etc.?"
   ]
  }
 ],
 "metadata": {
  "kernelspec": {
   "display_name": "DS5110 Spark 3.3",
   "language": "python",
   "name": "ds5110_spark3.3"
  },
  "language_info": {
   "codemirror_mode": {
    "name": "ipython",
    "version": 3
   },
   "file_extension": ".py",
   "mimetype": "text/x-python",
   "name": "python",
   "nbconvert_exporter": "python",
   "pygments_lexer": "ipython3",
   "version": "3.7.12"
  }
 },
 "nbformat": 4,
 "nbformat_minor": 4
}
