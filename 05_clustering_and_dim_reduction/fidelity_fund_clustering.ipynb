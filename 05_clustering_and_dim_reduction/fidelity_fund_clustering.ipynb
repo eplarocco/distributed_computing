{
 "cells": [
  {
   "cell_type": "markdown",
   "metadata": {},
   "source": [
    "## K-Means Cluster Analysis of Fidelity Fund Returns \n",
    "### University of Virginia\n",
    "### DS 7200: Distributed Computing\n",
    "### Last Updated: August 20, 2023"
   ]
  },
  {
   "cell_type": "markdown",
   "metadata": {},
   "source": [
    "## Instructions\n",
    "\n",
    "In this assignment, you will conduct a k-means cluster analysis on a set of Fidelity mutual funds.  \n",
    "This helps to group similar funds based on their performance (as opposed to their description, which is typical).  \n",
    "The outline below will walk you through the required steps.  \n",
    "\n",
    "This assignment is worth a total of **10 POINTS.**"
   ]
  },
  {
   "cell_type": "markdown",
   "metadata": {},
   "source": [
    "## Data Details \n",
    "\n",
    "The file *fido_returns_funds_on_rows.csv* is the processed data for k-means. Additional details about this file: \n",
    "- Each row represents a mutual fund  \n",
    "- Each column represents a trading day (these are used as features)  \n",
    "- Each value represents the daily percentage change in price between the current trading day and previous trading day"
   ]
  },
  {
   "cell_type": "markdown",
   "metadata": {},
   "source": [
    "### Load Modules and Read Data into Spark DataFrame"
   ]
  },
  {
   "cell_type": "code",
   "execution_count": 1,
   "metadata": {
    "tags": []
   },
   "outputs": [
    {
     "data": {
      "text/html": [
       "<style>pre { white-space: pre !important; }</style>"
      ],
      "text/plain": [
       "<IPython.core.display.HTML object>"
      ]
     },
     "metadata": {},
     "output_type": "display_data"
    }
   ],
   "source": [
    "from IPython.core.display import HTML\n",
    "display(HTML(\"<style>pre { white-space: pre !important; }</style>\"))"
   ]
  },
  {
   "cell_type": "code",
   "execution_count": 2,
   "metadata": {
    "tags": []
   },
   "outputs": [
    {
     "name": "stderr",
     "output_type": "stream",
     "text": [
      "/opt/conda/lib/python3.7/site-packages/pyspark/bin/load-spark-env.sh: line 68: ps: command not found\n",
      "Setting default log level to \"WARN\".\n",
      "To adjust logging level use sc.setLogLevel(newLevel). For SparkR, use setLogLevel(newLevel).\n"
     ]
    },
    {
     "name": "stdout",
     "output_type": "stream",
     "text": [
      "24/10/06 21:23:20 WARN NativeCodeLoader: Unable to load native-hadoop library for your platform... using builtin-java classes where applicable\n"
     ]
    },
    {
     "name": "stderr",
     "output_type": "stream",
     "text": [
      "                                                                                \r"
     ]
    }
   ],
   "source": [
    "from pyspark.sql import SparkSession\n",
    "spark = SparkSession.builder.getOrCreate()\n",
    "\n",
    "from pyspark.ml.clustering import KMeans\n",
    "from pyspark.ml.evaluation import ClusteringEvaluator\n",
    "from pyspark.ml.feature import VectorAssembler\n",
    "\n",
    "# Loads data\n",
    "df = spark.read.csv(\"fido_returns_funds_on_rows.csv\", header=True, inferSchema=True)"
   ]
  },
  {
   "cell_type": "markdown",
   "metadata": {},
   "source": [
    "**(VALUE: 2 POINTS) Assemble the Features into a column. \n",
    "Show the first five rows of data ONLY for the features column.\n",
    "(this should make things easier to read)**"
   ]
  },
  {
   "cell_type": "code",
   "execution_count": 9,
   "metadata": {
    "tags": []
   },
   "outputs": [
    {
     "name": "stdout",
     "output_type": "stream",
     "text": [
      "+--------------------+\n",
      "|            features|\n",
      "+--------------------+\n",
      "|[0.0,0.0,-0.01040...|\n",
      "|[0.0,0.0,-0.01051...|\n",
      "|[0.0,0.0,-0.01076...|\n",
      "|[0.0,8.26105E-4,-...|\n",
      "|[0.0,8.2815740000...|\n",
      "+--------------------+\n",
      "only showing top 5 rows\n",
      "\n"
     ]
    }
   ],
   "source": [
    "assembler = VectorAssembler(inputCols=df.columns, outputCol=\"features\")\n",
    "dataset=assembler.transform(df)\n",
    "dataset.select(\"features\").show(5,truncate=True) #put on true to make more readable for grading"
   ]
  },
  {
   "cell_type": "markdown",
   "metadata": {},
   "source": [
    "**(VALUE: 1 POINT) Set up the k-means model and train the model**  \n",
    "Use parameters: \n",
    "- 3 clusters\n",
    "- maximum of 10 iterations \n",
    "- seed=314"
   ]
  },
  {
   "cell_type": "code",
   "execution_count": 4,
   "metadata": {
    "tags": []
   },
   "outputs": [
    {
     "name": "stderr",
     "output_type": "stream",
     "text": [
      "[Stage 21:=======================>                                  (2 + 3) / 5]\r"
     ]
    },
    {
     "name": "stdout",
     "output_type": "stream",
     "text": [
      "24/10/06 21:23:42 WARN DAGScheduler: Broadcasting large task binary with size 1028.9 KiB\n"
     ]
    },
    {
     "name": "stderr",
     "output_type": "stream",
     "text": [
      "                                                                                \r"
     ]
    }
   ],
   "source": [
    "kmeans = KMeans().setK(3).setSeed(314).setMaxIter(10)\n",
    "model = kmeans.fit(dataset)"
   ]
  },
  {
   "cell_type": "markdown",
   "metadata": {},
   "source": [
    "**(VALUE: 2 POINTS) Compute and Print the Silhouette Score**  "
   ]
  },
  {
   "cell_type": "code",
   "execution_count": 5,
   "metadata": {
    "tags": []
   },
   "outputs": [
    {
     "name": "stderr",
     "output_type": "stream",
     "text": [
      "                                                                                \r"
     ]
    },
    {
     "name": "stdout",
     "output_type": "stream",
     "text": [
      "Silhouette with squared euclidean distance = 0.42290918461227944\n"
     ]
    }
   ],
   "source": [
    "predictions = model.transform(dataset)\n",
    "# Evaluate clustering by computing Silhouette score (between -1  and 1 with 1 as the best clustering)\n",
    "evaluator = ClusteringEvaluator()\n",
    "silhouette = evaluator.evaluate(predictions)\n",
    "print(\"Silhouette with squared euclidean distance = \" + str(silhouette))"
   ]
  },
  {
   "cell_type": "markdown",
   "metadata": {},
   "source": [
    "**(VALUE: 2 POINTS) Define a function `kmeans_range()` that does the following:**\n",
    "- takes an integer representing the lower bound for k\n",
    "- takes an integer representing the upper bound for k\n",
    "- take a Spark DataFrame containing training data\n",
    "- fit K-means with k ranging from lower bound to upper bound, inclusive  \n",
    "- the other parameters should be the same as earlier \n",
    "- for each k, compute the silhouette score\n",
    "- return a pandas dataframe with columns containing k, silhouette score (each row holds the score for given k)"
   ]
  },
  {
   "cell_type": "code",
   "execution_count": 6,
   "metadata": {
    "tags": []
   },
   "outputs": [],
   "source": [
    "#****assuming that df contains an already vectorized column labeled features\n",
    "import pandas as pd\n",
    "\n",
    "def kmeans_range(lower_bound_k, upper_bound_k, df):\n",
    "    scores = []\n",
    "    k_val = []\n",
    "    for k in range(lower_bound_k,upper_bound_k+1):\n",
    "        kmeans = KMeans().setK(k).setSeed(314).setMaxIter(10)\n",
    "        model = kmeans.fit(dataset)\n",
    "        predictions = model.transform(dataset)\n",
    "        evaluator = ClusteringEvaluator()\n",
    "        silhouette = evaluator.evaluate(predictions)\n",
    "        \n",
    "        scores.append(silhouette)\n",
    "        k_val.append(k)\n",
    "    score_df = pd.DataFrame({'k':k_val, 'silhouettte_score':scores})\n",
    "    return(score_df)"
   ]
  },
  {
   "cell_type": "markdown",
   "metadata": {},
   "source": [
    "**(VALUE: 1 POINT) Call `kmeans_range` to compute K-means with clusters ranging from 2 to 10 inclusive, printing the resulting dataframe.**"
   ]
  },
  {
   "cell_type": "code",
   "execution_count": 7,
   "metadata": {
    "tags": []
   },
   "outputs": [
    {
     "name": "stderr",
     "output_type": "stream",
     "text": [
      "[Stage 49:===========>                                              (1 + 4) / 5]\r"
     ]
    },
    {
     "name": "stdout",
     "output_type": "stream",
     "text": [
      "24/10/06 21:23:58 WARN DAGScheduler: Broadcasting large task binary with size 1015.4 KiB\n"
     ]
    },
    {
     "name": "stderr",
     "output_type": "stream",
     "text": [
      "                                                                                \r"
     ]
    },
    {
     "name": "stdout",
     "output_type": "stream",
     "text": [
      "24/10/06 21:24:04 WARN DAGScheduler: Broadcasting large task binary with size 1028.9 KiB\n"
     ]
    },
    {
     "name": "stderr",
     "output_type": "stream",
     "text": [
      "                                                                                \r"
     ]
    },
    {
     "name": "stdout",
     "output_type": "stream",
     "text": [
      "24/10/06 21:24:09 WARN DAGScheduler: Broadcasting large task binary with size 1042.5 KiB\n"
     ]
    },
    {
     "name": "stderr",
     "output_type": "stream",
     "text": [
      "                                                                                \r"
     ]
    },
    {
     "name": "stdout",
     "output_type": "stream",
     "text": [
      "24/10/06 21:24:13 WARN DAGScheduler: Broadcasting large task binary with size 1056.0 KiB\n"
     ]
    },
    {
     "name": "stderr",
     "output_type": "stream",
     "text": [
      "                                                                                \r"
     ]
    },
    {
     "name": "stdout",
     "output_type": "stream",
     "text": [
      "24/10/06 21:24:18 WARN DAGScheduler: Broadcasting large task binary with size 1069.5 KiB\n"
     ]
    },
    {
     "name": "stderr",
     "output_type": "stream",
     "text": [
      "                                                                                \r"
     ]
    },
    {
     "name": "stdout",
     "output_type": "stream",
     "text": [
      "24/10/06 21:24:22 WARN DAGScheduler: Broadcasting large task binary with size 1083.1 KiB\n"
     ]
    },
    {
     "name": "stderr",
     "output_type": "stream",
     "text": [
      "                                                                                \r"
     ]
    },
    {
     "name": "stdout",
     "output_type": "stream",
     "text": [
      "24/10/06 21:24:27 WARN DAGScheduler: Broadcasting large task binary with size 1096.6 KiB\n"
     ]
    },
    {
     "name": "stderr",
     "output_type": "stream",
     "text": [
      "                                                                                \r"
     ]
    },
    {
     "name": "stdout",
     "output_type": "stream",
     "text": [
      "24/10/06 21:24:31 WARN DAGScheduler: Broadcasting large task binary with size 1110.2 KiB\n"
     ]
    },
    {
     "name": "stderr",
     "output_type": "stream",
     "text": [
      "                                                                                \r"
     ]
    },
    {
     "name": "stdout",
     "output_type": "stream",
     "text": [
      "24/10/06 21:24:35 WARN DAGScheduler: Broadcasting large task binary with size 1123.7 KiB\n",
      "    k  silhouettte_score\n",
      "0   2           0.602396\n",
      "1   3           0.422909\n",
      "2   4           0.448951\n",
      "3   5           0.459352\n",
      "4   6           0.468879\n",
      "5   7           0.459371\n",
      "6   8           0.477168\n",
      "7   9           0.431599\n",
      "8  10           0.438814\n"
     ]
    }
   ],
   "source": [
    "vals = kmeans_range(2, 10, dataset)\n",
    "print(vals)"
   ]
  },
  {
   "cell_type": "markdown",
   "metadata": {},
   "source": [
    "**(VALUE: 1 POINT) Produce a plot with cluster numbers k on the x-axis, sihouette scores on the y-axis**"
   ]
  },
  {
   "cell_type": "code",
   "execution_count": 8,
   "metadata": {
    "tags": []
   },
   "outputs": [
    {
     "data": {
      "image/png": "[encoded data removed]",
      "text/plain": [
       "<Figure size 640x480 with 1 Axes>"
      ]
     },
     "metadata": {},
     "output_type": "display_data"
    }
   ],
   "source": [
    "import matplotlib.pyplot as plt\n",
    "plt.plot(vals.k, vals.silhouettte_score)\n",
    "plt.show()"
   ]
  },
  {
   "cell_type": "markdown",
   "metadata": {},
   "source": [
    "**(VALUE: 1 POINT) Based on how the silhouette score is calculated, what is its time complexity? (e.g., O(log n))**  \n",
    "You can find the definition of the silhouette score in the lecture notes, for example. "
   ]
  },
  {
   "cell_type": "markdown",
   "metadata": {},
   "source": [
    "Theoretically the time complexity of the silhouette score is non-linear O(n^2) given it's calculation of pairwise distances.\n",
    "However, given k clusters with pre-computed means and N points, the time complexity is linear O(Nk), given that for each point N, \n",
    "the within cluster distance is computed as well as each between cluster distance for a total of k clusters.\n",
    "\n",
    "If n = k (aka each point is in it's own cluster), then O(nk) = o(n^2)."
   ]
  }
 ],
 "metadata": {
  "kernelspec": {
   "display_name": "DS7200 Spark 3.3",
   "language": "python",
   "name": "ds5110_spark3.3"
  },
  "language_info": {
   "codemirror_mode": {
    "name": "ipython",
    "version": 3
   },
   "file_extension": ".py",
   "mimetype": "text/x-python",
   "name": "python",
   "nbconvert_exporter": "python",
   "pygments_lexer": "ipython3",
   "version": "3.7.12"
  }
 },
 "nbformat": 4,
 "nbformat_minor": 4
}
