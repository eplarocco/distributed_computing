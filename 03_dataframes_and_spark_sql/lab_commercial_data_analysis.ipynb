{
 "cells": [
  {
   "cell_type": "markdown",
   "metadata": {},
   "source": [
    "### Lab Assignment: Commercial Data Analysis\n",
    "\n",
    "### University of Virginia\n",
    "### DS 7200: Distributed Computing\n",
    "### Last Updated: August 20, 2023\n",
    "\n",
    "---"
   ]
  },
  {
   "cell_type": "markdown",
   "metadata": {},
   "source": [
    "### INSTRUCTIONS  \n",
    "In this assignment, you will work with a dataset containing information about businesses.  \n",
    "Each record is a business location.  Follow the steps below, writing and running the code in blocks, and displaying the solutions.  \n",
    "\n",
    "Each question part is worth 1 POINT, for a total of 15 POINTS.\n",
    "\n",
    "Hint: reaching deeper fields in json hierarchy can be done like this:  \n",
    "\n",
    "`df.select('address.street_number')`\n",
    "\n",
    "---"
   ]
  },
  {
   "cell_type": "code",
   "execution_count": 1,
   "metadata": {
    "tags": []
   },
   "outputs": [
    {
     "data": {
      "text/html": [
       "<style>pre { white-space: pre !important; }</style>"
      ],
      "text/plain": [
       "<IPython.core.display.HTML object>"
      ]
     },
     "metadata": {},
     "output_type": "display_data"
    }
   ],
   "source": [
    "from IPython.core.display import HTML\n",
    "display(HTML(\"<style>pre { white-space: pre !important; }</style>\"))"
   ]
  },
  {
   "cell_type": "code",
   "execution_count": 2,
   "metadata": {
    "tags": []
   },
   "outputs": [
    {
     "name": "stderr",
     "output_type": "stream",
     "text": [
      "Setting default log level to \"WARN\".\n",
      "To adjust logging level use sc.setLogLevel(newLevel). For SparkR, use setLogLevel(newLevel).\n",
      "24/09/18 22:20:08 WARN NativeCodeLoader: Unable to load native-hadoop library for your platform... using builtin-java classes where applicable\n"
     ]
    }
   ],
   "source": [
    "from pyspark.sql import SparkSession\n",
    "\n",
    "spark = SparkSession.builder \\\n",
    "        .appName(\"comm\") \\\n",
    "        .getOrCreate()"
   ]
  },
  {
   "cell_type": "markdown",
   "metadata": {},
   "source": [
    "**1. (1 PT) Read in the dataset and show the number of records**"
   ]
  },
  {
   "cell_type": "code",
   "execution_count": 3,
   "metadata": {
    "tags": []
   },
   "outputs": [
    {
     "name": "stderr",
     "output_type": "stream",
     "text": [
      "24/09/18 22:20:19 WARN package: Truncated the string representation of a plan since it was too large. This behavior can be adjusted by setting 'spark.sql.debug.maxToStringFields'.\n"
     ]
    },
    {
     "name": "stdout",
     "output_type": "stream",
     "text": [
      "+--------------------+--------------------+--------------------+----------------+--------------------+--------------------+--------------------+--------------------+\n",
      "|             address|       business_tags|               hours|              id|                menu|             reviews|                urls|             webpage|\n",
      "+--------------------+--------------------+--------------------+----------------+--------------------+--------------------+--------------------+--------------------+\n",
      "|{Woodburn, {45.15...|                null|                null|000023995a540868|                null|                  []|{woodburn.k12.or....|{Educational Tech...|\n",
      "|{Hialeah, {25.884...|{[], [{has_atm, Y...|{null, 1900, null...|0000821a1394916e|                null|                null|{null, [yelp.com]...|                null|\n",
      "|{Rochester, {43.1...|{[], [{accepts_cr...|{null, 1700, null...|000136e65d50c3b7|                null|[{New (to me) qui...|{usps.com, [yelp....|{Welcome | USPS G...|\n",
      "|{West Palm Beach,...|                null|                null|00014329a70b9869|                null|                null|                null|                null|\n",
      "|{Eufaula, {35.283...|                null|{null, 1700, null...|00031c0a83f00657|                null|                null|{drsodomcoburnand...|{DRS. COBURN, RIC...|\n",
      "|{Birmingham, {33....|                null|                null|0003b7589a4e12a0|                null|[{Dr Cox and his ...|{null, [google.co...|                null|\n",
      "|{Houston, {29.722...|{[], [{takes_rese...|{null, 2400, null...|00045f958e4bb02a|{2, https://www.y...|[{Dine in I resca...|{pizzahut.com, [f...|                null|\n",
      "|{Flushing, {40.75...|{null, [{specialt...|{null, null, null...|00055eb14ea38ca2|                null|                null|                null|                null|\n",
      "|{Helen, {34.68952...|{[by_appointment_...|{null, 1800, null...|00059519f0dba1b4|                null|[{Dishware, decor...|{facebook.com, [f...|                null|\n",
      "|{Glen Burnie, {39...|                null|                null|0005f8f0b2beeac4|                null|                null|{ecoopercontracti...|{24 HR Contractin...|\n",
      "|{New York, {40.72...|                null|                null|000673b2dac411ea|                null|                null|{phdbiosciences.c...|{CONTACT | PHD Bi...|\n",
      "|{Menlo Park, {37....|                null|                null|0006d5aa170bae22|                null|                  []|{guidespark.com, ...|{Employee Communi...|\n",
      "|{Auburn, {38.9405...|                null|                null|00080a1e9b3607c0|                null|                null|{null, [google.co...|                null|\n",
      "|{Port Jefferson S...|                null|                null|0008bc70f8ba62bf|                null|[{I enjoyed the p...|{fullgospelcc.org...|{Full Gospel Chri...|\n",
      "|{Olean, null, US,...|                null|                null|0008c39401d7ce3b|                null|                null|{locality.com, [f...|{locality.com Wel...|\n",
      "|{Virgie, null, US...|                null|                null|0009cd9a574331a9|                null|                null|{null, [facebook....|                null|\n",
      "|{Pacifica, {37.60...|                null|{true, null, null...|000a1df4c8e0ecd2|                null|[{If you shop at ...|{shell.us, [shell...|{Shell in the Uni...|\n",
      "|{Carrboro, null, ...|                null|                null|000a863f1d02dd78|                null|                null|{null, [linkedin....|                null|\n",
      "|{Indianapolis, {3...|                null|{null, null, null...|000b4a9059161ee7|                null|                null|{drhortondentistr...|{Andrey M. Horton...|\n",
      "|{Dearborn, {42.33...|{[], [{specialtie...|                null|000bf1e934ac9cb6|                null|                  []|{accesscommunity....|{ACCESS | Assisti...|\n",
      "+--------------------+--------------------+--------------------+----------------+--------------------+--------------------+--------------------+--------------------+\n",
      "only showing top 20 rows\n",
      "\n",
      "root\n",
      " |-- address: struct (nullable = true)\n",
      " |    |-- city: string (nullable = true)\n",
      " |    |-- coordinates: struct (nullable = true)\n",
      " |    |    |-- lat: double (nullable = true)\n",
      " |    |    |-- lon: double (nullable = true)\n",
      " |    |-- country: string (nullable = true)\n",
      " |    |-- county: string (nullable = true)\n",
      " |    |-- full_address: string (nullable = true)\n",
      " |    |-- highway_number: string (nullable = true)\n",
      " |    |-- is_headquarters: boolean (nullable = true)\n",
      " |    |-- is_parsed: boolean (nullable = true)\n",
      " |    |-- post_direction: string (nullable = true)\n",
      " |    |-- pre_direction: string (nullable = true)\n",
      " |    |-- secondary_number: string (nullable = true)\n",
      " |    |-- state: string (nullable = true)\n",
      " |    |-- street: string (nullable = true)\n",
      " |    |-- street_address: string (nullable = true)\n",
      " |    |-- street_number: string (nullable = true)\n",
      " |    |-- street_type: string (nullable = true)\n",
      " |    |-- type_of_address: string (nullable = true)\n",
      " |    |-- zip: string (nullable = true)\n",
      " |    |-- zip_suffix: string (nullable = true)\n",
      " |-- business_tags: struct (nullable = true)\n",
      " |    |-- no: array (nullable = true)\n",
      " |    |    |-- element: string (containsNull = true)\n",
      " |    |-- tags: array (nullable = true)\n",
      " |    |    |-- element: struct (containsNull = true)\n",
      " |    |    |    |-- name: string (nullable = true)\n",
      " |    |    |    |-- value: string (nullable = true)\n",
      " |    |-- yes: array (nullable = true)\n",
      " |    |    |-- element: string (containsNull = true)\n",
      " |-- hours: struct (nullable = true)\n",
      " |    |-- any_day_is_24: boolean (nullable = true)\n",
      " |    |-- friday_close: string (nullable = true)\n",
      " |    |-- friday_lb: long (nullable = true)\n",
      " |    |-- friday_open: string (nullable = true)\n",
      " |    |-- friday_total_seconds: long (nullable = true)\n",
      " |    |-- hours: struct (nullable = true)\n",
      " |    |    |-- Friday: string (nullable = true)\n",
      " |    |    |-- Monday: string (nullable = true)\n",
      " |    |    |-- Saturday: string (nullable = true)\n",
      " |    |    |-- Sunday: string (nullable = true)\n",
      " |    |    |-- Thursday: string (nullable = true)\n",
      " |    |    |-- Tuesday: string (nullable = true)\n",
      " |    |    |-- Wednesday: string (nullable = true)\n",
      " |    |-- monday_close: string (nullable = true)\n",
      " |    |-- monday_lb: long (nullable = true)\n",
      " |    |-- monday_open: string (nullable = true)\n",
      " |    |-- monday_total_seconds: long (nullable = true)\n",
      " |    |-- saturday_close: string (nullable = true)\n",
      " |    |-- saturday_lb: long (nullable = true)\n",
      " |    |-- saturday_open: string (nullable = true)\n",
      " |    |-- saturday_total_seconds: long (nullable = true)\n",
      " |    |-- sunday_close: string (nullable = true)\n",
      " |    |-- sunday_lb: long (nullable = true)\n",
      " |    |-- sunday_open: string (nullable = true)\n",
      " |    |-- sunday_total_seconds: long (nullable = true)\n",
      " |    |-- thursday_close: string (nullable = true)\n",
      " |    |-- thursday_lb: long (nullable = true)\n",
      " |    |-- thursday_open: string (nullable = true)\n",
      " |    |-- thursday_total_seconds: long (nullable = true)\n",
      " |    |-- tuesday_close: string (nullable = true)\n",
      " |    |-- tuesday_lb: long (nullable = true)\n",
      " |    |-- tuesday_open: string (nullable = true)\n",
      " |    |-- tuesday_total_seconds: long (nullable = true)\n",
      " |    |-- wednesday_close: string (nullable = true)\n",
      " |    |-- wednesday_lb: long (nullable = true)\n",
      " |    |-- wednesday_open: string (nullable = true)\n",
      " |    |-- wednesday_total_seconds: long (nullable = true)\n",
      " |    |-- week_total_hours_pretty: string (nullable = true)\n",
      " |    |-- week_total_minutes_pretty: string (nullable = true)\n",
      " |    |-- week_total_seconds: long (nullable = true)\n",
      " |-- id: string (nullable = true)\n",
      " |-- menu: struct (nullable = true)\n",
      " |    |-- price_range: string (nullable = true)\n",
      " |    |-- url: string (nullable = true)\n",
      " |-- reviews: array (nullable = true)\n",
      " |    |-- element: struct (containsNull = true)\n",
      " |    |    |-- content: string (nullable = true)\n",
      " |    |    |-- date: string (nullable = true)\n",
      " |    |    |-- dislikes: long (nullable = true)\n",
      " |    |    |-- gender: string (nullable = true)\n",
      " |    |    |-- id: string (nullable = true)\n",
      " |    |    |-- language: string (nullable = true)\n",
      " |    |    |-- likes: long (nullable = true)\n",
      " |    |    |-- source: string (nullable = true)\n",
      " |    |    |-- stars: long (nullable = true)\n",
      " |    |    |-- tags: array (nullable = true)\n",
      " |    |    |    |-- element: string (containsNull = true)\n",
      " |    |    |-- url: string (nullable = true)\n",
      " |    |    |-- user: string (nullable = true)\n",
      " |    |    |-- user_id: string (nullable = true)\n",
      " |-- urls: struct (nullable = true)\n",
      " |    |-- domain: string (nullable = true)\n",
      " |    |-- domains: array (nullable = true)\n",
      " |    |    |-- element: string (containsNull = true)\n",
      " |    |-- email: string (nullable = true)\n",
      " |    |-- url: string (nullable = true)\n",
      " |    |-- urls: array (nullable = true)\n",
      " |    |    |-- element: string (containsNull = true)\n",
      " |-- webpage: struct (nullable = true)\n",
      " |    |-- content: string (nullable = true)\n",
      " |    |-- count: long (nullable = true)\n",
      " |    |-- elapsed: double (nullable = true)\n",
      " |    |-- success: boolean (nullable = true)\n",
      " |    |-- timestamp: string (nullable = true)\n",
      " |    |-- title: string (nullable = true)\n",
      " |    |-- url: string (nullable = true)\n",
      " |    |-- urlhash: string (nullable = true)\n",
      " |    |-- validurl: string (nullable = true)\n",
      "\n"
     ]
    }
   ],
   "source": [
    "data = \"/standard/ds7200-apt4c/large_datasets/part-00000-a159c41a-bc58-4476-9b78-c437667f9c2b-c000.json.gz\"\n",
    "df = spark.read.json(data)\n",
    "df.show()\n",
    "df.printSchema()"
   ]
  },
  {
   "cell_type": "markdown",
   "metadata": {},
   "source": [
    "**2. (1 PT) Show the first 5 records**"
   ]
  },
  {
   "cell_type": "code",
   "execution_count": 4,
   "metadata": {
    "tags": []
   },
   "outputs": [
    {
     "name": "stdout",
     "output_type": "stream",
     "text": [
      "+--------------------+--------------------+--------------------+----------------+----+--------------------+--------------------+--------------------+\n",
      "|             address|       business_tags|               hours|              id|menu|             reviews|                urls|             webpage|\n",
      "+--------------------+--------------------+--------------------+----------------+----+--------------------+--------------------+--------------------+\n",
      "|{Woodburn, {45.15...|                null|                null|000023995a540868|null|                  []|{woodburn.k12.or....|{Educational Tech...|\n",
      "|{Hialeah, {25.884...|{[], [{has_atm, Y...|{null, 1900, null...|0000821a1394916e|null|                null|{null, [yelp.com]...|                null|\n",
      "|{Rochester, {43.1...|{[], [{accepts_cr...|{null, 1700, null...|000136e65d50c3b7|null|[{New (to me) qui...|{usps.com, [yelp....|{Welcome | USPS G...|\n",
      "|{West Palm Beach,...|                null|                null|00014329a70b9869|null|                null|                null|                null|\n",
      "|{Eufaula, {35.283...|                null|{null, 1700, null...|00031c0a83f00657|null|                null|{drsodomcoburnand...|{DRS. COBURN, RIC...|\n",
      "+--------------------+--------------------+--------------------+----------------+----+--------------------+--------------------+--------------------+\n",
      "only showing top 5 rows\n",
      "\n"
     ]
    }
   ],
   "source": [
    "df.show(5)"
   ]
  },
  {
   "cell_type": "markdown",
   "metadata": {},
   "source": [
    "**3. (1 PT) Show the first 5 street addresses which are not null**  "
   ]
  },
  {
   "cell_type": "code",
   "execution_count": 5,
   "metadata": {
    "tags": []
   },
   "outputs": [
    {
     "name": "stdout",
     "output_type": "stream",
     "text": [
      "+--------------------+\n",
      "|        full_address|\n",
      "+--------------------+\n",
      "|496 Madison Ave, ...|\n",
      "|Pompano Beach, FL...|\n",
      "|S 14th St, Oxford...|\n",
      "|Encino, CA 91316,...|\n",
      "|4024 Flushing Rd....|\n",
      "+--------------------+\n",
      "only showing top 5 rows\n",
      "\n"
     ]
    }
   ],
   "source": [
    "from pyspark.sql.functions import col\n",
    "df.select(\"address.full_address\").filter(col(\"address.full_address\").isNotNull()).show(5)"
   ]
  },
  {
   "cell_type": "markdown",
   "metadata": {},
   "source": [
    "**4. (1 PT) Location**  \n",
    "\n",
    "Count the number of records where the city is Phoenix"
   ]
  },
  {
   "cell_type": "code",
   "execution_count": 6,
   "metadata": {
    "tags": []
   },
   "outputs": [
    {
     "name": "stderr",
     "output_type": "stream",
     "text": [
      "                                                                                \r"
     ]
    },
    {
     "data": {
      "text/plain": [
       "762"
      ]
     },
     "execution_count": 6,
     "metadata": {},
     "output_type": "execute_result"
    }
   ],
   "source": [
    "df.filter(df.address.city == 'Phoenix').count()"
   ]
  },
  {
   "cell_type": "markdown",
   "metadata": {},
   "source": [
    "**5. (1 PT) Hours**  \n",
    "\n",
    "Count the number of records where closing time on Thursday is 8pm"
   ]
  },
  {
   "cell_type": "code",
   "execution_count": 7,
   "metadata": {
    "tags": []
   },
   "outputs": [
    {
     "name": "stderr",
     "output_type": "stream",
     "text": [
      "                                                                                \r"
     ]
    },
    {
     "data": {
      "text/plain": [
       "3313"
      ]
     },
     "execution_count": 7,
     "metadata": {},
     "output_type": "execute_result"
    }
   ],
   "source": [
    "df.filter(df.hours.thursday_close == 2000).count()"
   ]
  },
  {
   "cell_type": "markdown",
   "metadata": {},
   "source": [
    "**6. (1 PT) Location and Hours**  \n",
    "\n",
    "Count the number of records where city is Phoenix and closing time on Thursday is 8pm"
   ]
  },
  {
   "cell_type": "code",
   "execution_count": 8,
   "metadata": {
    "tags": []
   },
   "outputs": [
    {
     "name": "stderr",
     "output_type": "stream",
     "text": [
      "                                                                                \r"
     ]
    },
    {
     "data": {
      "text/plain": [
       "12"
      ]
     },
     "execution_count": 8,
     "metadata": {},
     "output_type": "execute_result"
    }
   ],
   "source": [
    "df.filter((df.address.city == 'Phoenix') & (df.hours.thursday_close == 2000)).count()"
   ]
  },
  {
   "cell_type": "markdown",
   "metadata": {},
   "source": [
    "**7. (1 PT) Price Range**  \n",
    "\n",
    "Price range is quoted in number of dollar signs.  Count the number of records with price range greater than or equal to two."
   ]
  },
  {
   "cell_type": "code",
   "execution_count": 9,
   "metadata": {
    "tags": []
   },
   "outputs": [
    {
     "name": "stderr",
     "output_type": "stream",
     "text": [
      "                                                                                \r"
     ]
    },
    {
     "data": {
      "text/plain": [
       "1135"
      ]
     },
     "execution_count": 9,
     "metadata": {},
     "output_type": "execute_result"
    }
   ],
   "source": [
    "df.filter(df.menu.price_range >= 2).count()"
   ]
  },
  {
   "cell_type": "markdown",
   "metadata": {},
   "source": [
    "**8. (1 PT) COMPANY HEADQUARTERS**  \n",
    "\n",
    "For the `address.is_headquarters` field:  \n",
    "how many locations are HQ / are NOT HQ / are null?"
   ]
  },
  {
   "cell_type": "code",
   "execution_count": 10,
   "metadata": {
    "tags": []
   },
   "outputs": [
    {
     "name": "stderr",
     "output_type": "stream",
     "text": [
      "[Stage 16:>                                                         (0 + 1) / 1]\r"
     ]
    },
    {
     "name": "stdout",
     "output_type": "stream",
     "text": [
      "+---------------+-----+\n",
      "|is_headquarters|count|\n",
      "+---------------+-----+\n",
      "|           null|87625|\n",
      "|           true|  318|\n",
      "|          false|66736|\n",
      "+---------------+-----+\n",
      "\n"
     ]
    },
    {
     "name": "stderr",
     "output_type": "stream",
     "text": [
      "                                                                                \r"
     ]
    }
   ],
   "source": [
    "df.groupBy('address.is_headquarters').count().show()"
   ]
  },
  {
   "cell_type": "markdown",
   "metadata": {},
   "source": [
    "**9. (1 PT) Webpage URLs**  \n",
    "\n",
    "Register the dataframe as a temp table.  \n",
    "Next, use Spark SQL to select only the webpage title column, filtering on rows where the webpage url (accessed under `webpage.url`) is *Target.com*. \n",
    "\n",
    "Show only one resulting row and don't truncate the output."
   ]
  },
  {
   "cell_type": "code",
   "execution_count": 11,
   "metadata": {},
   "outputs": [
    {
     "name": "stdout",
     "output_type": "stream",
     "text": [
      "+-------------------------------+\n",
      "|title                          |\n",
      "+-------------------------------+\n",
      "|Target : Expect More. Pay Less.|\n",
      "+-------------------------------+\n",
      "only showing top 1 row\n",
      "\n"
     ]
    }
   ],
   "source": [
    "# register DataFrame as temp view with name \"people\"\n",
    "df.createOrReplaceTempView(\"webpage\")\n",
    "\n",
    "# query the view\n",
    "sqlDF = spark.sql(\"SELECT webpage.title FROM webpage where webpage.url == 'Target.com'\")\n",
    "sqlDF.show(n = 1, truncate = False)"
   ]
  },
  {
   "cell_type": "markdown",
   "metadata": {},
   "source": [
    "**10. (1 PT) Analysis on Ratings**  \n",
    "\n",
    "The reviews contains information such as the number of stars for each review (the *rating*).  \n",
    "The ratings are stored in an array (`reviews.stars`) for each business location (you should check for yourself). Return the top five most common rating arrays.  For example, an array might look like: \n",
    "[5, 5]\n",
    "\n"
   ]
  },
  {
   "cell_type": "code",
   "execution_count": 12,
   "metadata": {},
   "outputs": [
    {
     "name": "stderr",
     "output_type": "stream",
     "text": [
      "[Stage 20:>                                                         (0 + 1) / 1]\r"
     ]
    },
    {
     "name": "stdout",
     "output_type": "stream",
     "text": [
      "+------+-----+\n",
      "| stars|count|\n",
      "+------+-----+\n",
      "|  null|74679|\n",
      "|    []|42419|\n",
      "|   [5]| 4258|\n",
      "|[null]| 3067|\n",
      "|[5, 5]| 1610|\n",
      "+------+-----+\n",
      "only showing top 5 rows\n",
      "\n"
     ]
    },
    {
     "name": "stderr",
     "output_type": "stream",
     "text": [
      "                                                                                \r"
     ]
    }
   ],
   "source": [
    "from pyspark.sql.functions import desc\n",
    "df.groupBy('reviews.stars').count().sort(desc(\"count\")).show(5)"
   ]
  },
  {
   "cell_type": "markdown",
   "metadata": {},
   "source": [
    "**11. More work with Ratings**  \n",
    "\n",
    "For this question, you will filter out null ratings and then compute the average rating for each business location (using the field: `id`).\n",
    "\n",
    "\n",
    "a) (1 PT) Create a new dataframe retaining two fields: `id`, `reviews.stars`\n"
   ]
  },
  {
   "cell_type": "code",
   "execution_count": 13,
   "metadata": {},
   "outputs": [
    {
     "name": "stdout",
     "output_type": "stream",
     "text": [
      "+----------------+--------------------+\n",
      "|              id|               stars|\n",
      "+----------------+--------------------+\n",
      "|000023995a540868|                  []|\n",
      "|0000821a1394916e|                null|\n",
      "|000136e65d50c3b7|              [4, 4]|\n",
      "|00014329a70b9869|                null|\n",
      "|00031c0a83f00657|                null|\n",
      "|0003b7589a4e12a0|                 [5]|\n",
      "|00045f958e4bb02a|[null, null, null...|\n",
      "|00055eb14ea38ca2|                null|\n",
      "|00059519f0dba1b4|[null, null, null...|\n",
      "|0005f8f0b2beeac4|                null|\n",
      "|000673b2dac411ea|                null|\n",
      "|0006d5aa170bae22|                  []|\n",
      "|00080a1e9b3607c0|                null|\n",
      "|0008bc70f8ba62bf|              [null]|\n",
      "|0008c39401d7ce3b|                null|\n",
      "|0009cd9a574331a9|                null|\n",
      "|000a1df4c8e0ecd2|[null, null, 4, 5...|\n",
      "|000a863f1d02dd78|                null|\n",
      "|000b4a9059161ee7|                null|\n",
      "|000bf1e934ac9cb6|                  []|\n",
      "+----------------+--------------------+\n",
      "only showing top 20 rows\n",
      "\n"
     ]
    }
   ],
   "source": [
    "df1 = df.select('id', 'reviews.stars')\n",
    "df1.show()"
   ]
  },
  {
   "cell_type": "markdown",
   "metadata": {},
   "source": [
    "b) (1 PT) Create a row for each rating  \n",
    "hint: use the `withColumn()` and `explode()` functions  \n",
    "you will need to import the `explode()` function by issuing:\n",
    "\n",
    "`from pyspark.sql.functions import explode`\n"
   ]
  },
  {
   "cell_type": "code",
   "execution_count": 14,
   "metadata": {},
   "outputs": [
    {
     "name": "stdout",
     "output_type": "stream",
     "text": [
      "+----------------+-----+\n",
      "|              id|stars|\n",
      "+----------------+-----+\n",
      "|000136e65d50c3b7|    4|\n",
      "|000136e65d50c3b7|    4|\n",
      "|0003b7589a4e12a0|    5|\n",
      "|00045f958e4bb02a| null|\n",
      "|00045f958e4bb02a| null|\n",
      "|00045f958e4bb02a| null|\n",
      "|00045f958e4bb02a| null|\n",
      "|00059519f0dba1b4| null|\n",
      "|00059519f0dba1b4| null|\n",
      "|00059519f0dba1b4| null|\n",
      "|00059519f0dba1b4| null|\n",
      "|00059519f0dba1b4| null|\n",
      "|00059519f0dba1b4| null|\n",
      "|00059519f0dba1b4| null|\n",
      "|00059519f0dba1b4| null|\n",
      "|00059519f0dba1b4|    1|\n",
      "|00059519f0dba1b4|    5|\n",
      "|00059519f0dba1b4|    2|\n",
      "|00059519f0dba1b4|    4|\n",
      "|00059519f0dba1b4|    5|\n",
      "+----------------+-----+\n",
      "only showing top 20 rows\n",
      "\n"
     ]
    }
   ],
   "source": [
    "from pyspark.sql.functions import explode\n",
    "df1 = df1.withColumn(\"stars\", explode(df1.stars))\n",
    "df1.show()"
   ]
  },
  {
   "cell_type": "markdown",
   "metadata": {},
   "source": [
    "c) (1 PT) Return a count of the number of ratings in this dataframe"
   ]
  },
  {
   "cell_type": "code",
   "execution_count": 15,
   "metadata": {},
   "outputs": [
    {
     "name": "stderr",
     "output_type": "stream",
     "text": [
      "[Stage 25:>                                                         (0 + 1) / 1]\r"
     ]
    },
    {
     "name": "stdout",
     "output_type": "stream",
     "text": [
      "+-----+------+\n",
      "|stars| count|\n",
      "+-----+------+\n",
      "|    5|259351|\n",
      "|    4|107728|\n",
      "|    3| 51733|\n",
      "|    2| 39295|\n",
      "|    1| 80134|\n",
      "| null| 61841|\n",
      "+-----+------+\n",
      "\n"
     ]
    },
    {
     "name": "stderr",
     "output_type": "stream",
     "text": [
      "                                                                                \r"
     ]
    }
   ],
   "source": [
    "df1.groupBy('stars').count().sort(desc(\"stars\")).show()"
   ]
  },
  {
   "cell_type": "markdown",
   "metadata": {},
   "source": [
    "d) (1 PT) Drop rows where the rating is null, and return a count of the number of non-null ratings"
   ]
  },
  {
   "cell_type": "code",
   "execution_count": 16,
   "metadata": {},
   "outputs": [
    {
     "name": "stderr",
     "output_type": "stream",
     "text": [
      "                                                                                \r"
     ]
    },
    {
     "data": {
      "text/plain": [
       "538241"
      ]
     },
     "execution_count": 16,
     "metadata": {},
     "output_type": "execute_result"
    }
   ],
   "source": [
    "df1 = df1.filter(col(\"stars\").isNotNull())\n",
    "df1.count()"
   ]
  },
  {
   "cell_type": "markdown",
   "metadata": {},
   "source": [
    "e) (1 PT) Compute the average rating, grouped by `id`. After the average is computed, sort by `id` in ascending order and show the top 10 records.  \n",
    " \n",
    "hint:   \n",
    "this can all be done in one line using the `agg()` function  \n",
    "this `id` should be at the top: 000136e65d50c3b7"
   ]
  },
  {
   "cell_type": "code",
   "execution_count": 17,
   "metadata": {},
   "outputs": [
    {
     "name": "stderr",
     "output_type": "stream",
     "text": [
      "[Stage 31:>                                                         (0 + 1) / 1]\r"
     ]
    },
    {
     "name": "stdout",
     "output_type": "stream",
     "text": [
      "+----------------+------------------+\n",
      "|              id|        avg(stars)|\n",
      "+----------------+------------------+\n",
      "|000136e65d50c3b7|               4.0|\n",
      "|0003b7589a4e12a0|               5.0|\n",
      "|00059519f0dba1b4|3.3333333333333335|\n",
      "|000a1df4c8e0ecd2|               4.6|\n",
      "|000c7b7a30623083|               5.0|\n",
      "|000c9ffc8b89af03|               3.0|\n",
      "|000de20baa847ecc|1.6666666666666667|\n",
      "|001064359d9f162f|               5.0|\n",
      "|0010c9f495d87dd7|               3.0|\n",
      "|0017774db5e6400a| 4.333333333333333|\n",
      "+----------------+------------------+\n",
      "only showing top 10 rows\n",
      "\n"
     ]
    },
    {
     "name": "stderr",
     "output_type": "stream",
     "text": [
      "                                                                                \r"
     ]
    }
   ],
   "source": [
    "from pyspark.sql import functions as F\n",
    "from pyspark.sql.functions import asc\n",
    "df1.groupBy('id').agg(F.mean(\"stars\")).sort(asc('id')).show(10)"
   ]
  },
  {
   "cell_type": "code",
   "execution_count": null,
   "metadata": {},
   "outputs": [],
   "source": []
  }
 ],
 "metadata": {
  "anaconda-cloud": {},
  "kernelspec": {
   "display_name": "Python 3 (ipykernel)",
   "language": "python",
   "name": "python3"
  },
  "language_info": {
   "codemirror_mode": {
    "name": "ipython",
    "version": 3
   },
   "file_extension": ".py",
   "mimetype": "text/x-python",
   "name": "python",
   "nbconvert_exporter": "python",
   "pygments_lexer": "ipython3",
   "version": "3.11.5"
  }
 },
 "nbformat": 4,
 "nbformat_minor": 4
}
